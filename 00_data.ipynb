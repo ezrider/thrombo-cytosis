{
 "cells": [
  {
   "cell_type": "code",
   "execution_count": null,
   "metadata": {},
   "outputs": [],
   "source": [
    "# default_exp data\n"
   ]
  },
  {
   "cell_type": "markdown",
   "metadata": {},
   "source": [
    "# module name here\n",
    "\n",
    "> API details."
   ]
  },
  {
   "cell_type": "code",
   "execution_count": null,
   "metadata": {},
   "outputs": [],
   "source": [
    "#hideinput\n",
    "from nbdev.showdoc import *\n",
    "\n"
   ]
  },
  {
   "cell_type": "code",
   "execution_count": null,
   "metadata": {},
   "outputs": [],
   "source": [
    "#export\n",
    "import pandas as pd\n",
    "import altair as alt\n"
   ]
  },
  {
   "cell_type": "markdown",
   "metadata": {},
   "source": [
    "#hide\n",
    "* The first goal will be to process the data file\n",
    "* Import the XML into a leo file\n",
    "* "
   ]
  },
  {
   "cell_type": "code",
   "execution_count": null,
   "metadata": {},
   "outputs": [],
   "source": [
    "#df = pd.read_csv('./data/Szallasi_raw_data_final.csv', parse_dates=['Date of Specimen', 'Date of Last contact','Date of first encounter','Date of diagnosis'] )\n",
    "df = pd.read_csv('./data/Szallasi_raw_data_final.csv' )\n"
   ]
  },
  {
   "cell_type": "code",
   "execution_count": null,
   "metadata": {},
   "outputs": [
    {
     "data": {
      "text/plain": [
       "Patient                      int64\n",
       "Location                    object\n",
       "Location1                   object\n",
       "Gender                      object\n",
       "Platelets                   object\n",
       "Lymphocytes                 object\n",
       "Absolute lymphocytes        object\n",
       "MSI                         object\n",
       "Stage                       object\n",
       "Grade                       object\n",
       "Date of Specimen            object\n",
       "Column                      object\n",
       "Vital Status                object\n",
       "Date of Last contact        object\n",
       "Date of first encounter     object\n",
       "Date of diagnosis           object\n",
       "Age at diagnosis           float64\n",
       "dtype: object"
      ]
     },
     "execution_count": null,
     "metadata": {},
     "output_type": "execute_result"
    }
   ],
   "source": [
    "df.dtypes"
   ]
  },
  {
   "cell_type": "code",
   "execution_count": null,
   "metadata": {},
   "outputs": [
    {
     "data": {
      "text/plain": [
       "Patient                      0\n",
       "Location                     9\n",
       "Location1                  314\n",
       "Gender                       6\n",
       "Platelets                    7\n",
       "Lymphocytes                  8\n",
       "Absolute lymphocytes         8\n",
       "MSI                          7\n",
       "Stage                       11\n",
       "Grade                       29\n",
       "Date of Specimen             8\n",
       "Column                     335\n",
       "Vital Status                 8\n",
       "Date of Last contact         8\n",
       "Date of first encounter     11\n",
       "Date of diagnosis            7\n",
       "Age at diagnosis             7\n",
       "dtype: int64"
      ]
     },
     "execution_count": null,
     "metadata": {},
     "output_type": "execute_result"
    }
   ],
   "source": [
    "df.head()\n",
    "df.isna().sum()"
   ]
  },
  {
   "cell_type": "code",
   "execution_count": null,
   "metadata": {},
   "outputs": [],
   "source": [
    "#export\n",
    "def get_data():\n",
    "    df = pd.read_csv('./data/Szallasi_raw_data_final.csv' )\n",
    "    return df"
   ]
  }
 ],
 "metadata": {
  "kernelspec": {
   "display_name": "Python 3",
   "language": "python",
   "name": "python3"
  }
 },
 "nbformat": 4,
 "nbformat_minor": 2
}
